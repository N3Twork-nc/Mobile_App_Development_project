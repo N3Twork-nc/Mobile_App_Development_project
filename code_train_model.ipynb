{
 "cells": [
  {
   "cell_type": "code",
   "execution_count": null,
   "id": "a1abef7b-edcf-4393-8611-983ed0467ba6",
   "metadata": {},
   "outputs": [],
   "source": [
    "from tensorflow import keras\n",
    "from tensorflow.keras import layers\n",
    "from keras.models import Sequential\n",
    "from keras.layers import Conv2D,Activation,MaxPooling2D,Dense,Flatten,Dropout, BatchNormalization\n",
    "from tensorflow.keras.callbacks import EarlyStopping\n",
    "import numpy as np\n",
    "import os\n",
    "import shutil\n",
    "import tensorflow as tf\n",
    "import json\n",
    "import matplotlib.pyplot as plt\n",
    "from keras.preprocessing.image import ImageDataGenerator\n",
    "from keras.models import load_model"
   ]
  },
  {
   "cell_type": "code",
   "execution_count": 2,
   "id": "46bb6500-fa67-4b2f-9991-215715072bf8",
   "metadata": {},
   "outputs": [],
   "source": [
    "train_path=\"/home/jupyter-iec_roadquality/jupyter-iec_roadquality/plants/DatasetPlants/train\"\n",
    "val_path=\"/home/jupyter-iec_roadquality/jupyter-iec_roadquality/plants/DatasetPlants/val\"\n",
    "batch_size=10\n",
    "image_size=150\n",
    "epochs=60"
   ]
  },
  {
   "cell_type": "code",
   "execution_count": 3,
   "id": "2ddb02f8-f640-48c1-8539-0a81e59732f3",
   "metadata": {},
   "outputs": [],
   "source": [
    "def load_data():\n",
    "    data_train=ImageDataGenerator().flow_from_directory(train_path,\n",
    "                                                     target_size=(image_size,image_size),\n",
    "                                                     batch_size=batch_size,\n",
    "                                                     shuffle=True,\n",
    "                                                     class_mode='categorical')\n",
    "    data_val=ImageDataGenerator().flow_from_directory(val_path,\n",
    "                                                     target_size=(image_size,image_size),\n",
    "                                                     batch_size=batch_size,\n",
    "                                                     shuffle=True,\n",
    "                                                     class_mode='categorical')\n",
    "    return data_train,data_val"
   ]
  },
  {
   "cell_type": "code",
   "execution_count": 4,
   "id": "90f449e3-2d33-4326-8134-b40cf6de29ba",
   "metadata": {},
   "outputs": [],
   "source": [
    "def create_model(input_shape):\n",
    "    data_augmentation = keras.Sequential(\n",
    "        [\n",
    "            layers.RandomTranslation(height_factor=0.1, width_factor=0.1),\n",
    "            layers.RandomContrast(factor=0.1),\n",
    "            layers.RandomZoom(height_factor=0.1, width_factor=0.1),  # Phóng to/thu nhỏ ngẫu nhiên ảnh tối đa 20%\n",
    "        ])\n",
    "    inputs = layers.Input(shape=input_shape)\n",
    "    x = data_augmentation(inputs)\n",
    "    scale_layer = keras.layers.Rescaling(scale=1 / 255.0, offset=-1)\n",
    "    x=scale_layer(x)\n",
    "    model =tf.keras.applications.EfficientNetB4(include_top=False, input_tensor=x, weights=\"imagenet\")\n",
    "\n",
    "    # Freeze the pretrained weights\n",
    "    for layer in model.layers[-3:]:\n",
    "        if not isinstance(layer, layers.BatchNormalization):\n",
    "            layer.trainable = True\n",
    "\n",
    "    # Rebuild top\n",
    "    \n",
    "    x = layers.GlobalAveragePooling2D(name=\"avg_pool\")(model.output)\n",
    "    x = layers.BatchNormalization()(x)\n",
    "\n",
    "    top_dropout_rate = 0.1\n",
    "    x = layers.Dropout(top_dropout_rate, name=\"top_dropout\")(x)\n",
    "    outputs = layers.Dense(50, activation=\"softmax\", name=\"pred\")(x)\n",
    "    model = tf.keras.Model(inputs, outputs, name=\"EfficientNet\")\n",
    "    model.compile(\n",
    "    optimizer=keras.optimizers.Adam(1e-5),  # Low learning rate\n",
    "        loss=\"categorical_crossentropy\",\n",
    "        metrics=[\"accuracy\"],\n",
    "    )\n",
    "    model.summary()\n",
    "    return model"
   ]
  },
  {
   "cell_type": "code",
   "execution_count": 5,
   "id": "b4eedec3-a596-4f69-89c9-3a1a1f6b184e",
   "metadata": {},
   "outputs": [],
   "source": [
    "def plot_hist(hist):\n",
    "    plt.plot(hist.history[\"accuracy\"])\n",
    "    plt.plot(hist.history[\"val_accuracy\"])\n",
    "    plt.title(\"model accuracy\")\n",
    "    plt.ylabel(\"accuracy\")\n",
    "    plt.xlabel(\"epoch\")\n",
    "    plt.legend([\"train\", \"validation\"], loc=\"upper left\")\n",
    "    plt.show()"
   ]
  },
  {
   "cell_type": "code",
   "execution_count": null,
   "id": "2308a42b-aa88-414a-b08d-1619075f5fb8",
   "metadata": {
    "scrolled": true
   },
   "outputs": [],
   "source": [
    "def count_img():\n",
    "    path_json_curent=\"./newPlants.json\"\n",
    "    with open(path_json_curent, 'r') as file:\n",
    "            json_data= json.load(file)\n",
    "    for folder in os.listdir(train_path):\n",
    "        folder_path=os.path.join(train_path,folder)\n",
    "        print(folder,len(os.listdir(folder_path)),json_data[folder])\n",
    "count_img()"
   ]
  },
  {
   "cell_type": "code",
   "execution_count": null,
   "id": "2acae69c-7d6e-4736-a534-6fb26ba97f60",
   "metadata": {},
   "outputs": [],
   "source": [
    "data_train,data_val=load_data()"
   ]
  },
  {
   "cell_type": "code",
   "execution_count": null,
   "id": "65b116ff-7888-4a19-99ba-4e831385cdb0",
   "metadata": {},
   "outputs": [],
   "source": [
    "model=create_model((image_size,image_size,3))"
   ]
  },
  {
   "cell_type": "code",
   "execution_count": 8,
   "id": "d9d3f95d-f98a-418e-96c6-c29b20e8f708",
   "metadata": {},
   "outputs": [],
   "source": [
    "model.load_weights(\"./plants_EfficientNetB4_150.h5\")\n",
    "# model.compile(\n",
    "#     optimizer=keras.optimizers.Adam(1e-4),  # Low learning rate\n",
    "#         loss=\"categorical_crossentropy\",\n",
    "#         metrics=[\"accuracy\"],\n",
    "#     )\n",
    "# model.save('plants_EfficientNetB4_model150.h5')"
   ]
  },
  {
   "cell_type": "code",
   "execution_count": null,
   "id": "66eee0fc-3ad7-477e-b20b-d3e6a4601360",
   "metadata": {},
   "outputs": [],
   "source": [
    "hist = model.fit(data_train, epochs=epochs, validation_data=data_val)\n",
    "model.save_weights(\"plants_EfficientNetB4_150.h5\")\n",
    "plot_hist(hist)"
   ]
  },
  {
   "cell_type": "code",
   "execution_count": null,
   "id": "802c33c5-74c3-493f-86a3-8d488b0c76b2",
   "metadata": {},
   "outputs": [],
   "source": []
  }
 ],
 "metadata": {
  "kernelspec": {
   "display_name": "Python 3 (ipykernel)",
   "language": "python",
   "name": "python3"
  },
  "language_info": {
   "codemirror_mode": {
    "name": "ipython",
    "version": 3
   },
   "file_extension": ".py",
   "mimetype": "text/x-python",
   "name": "python",
   "nbconvert_exporter": "python",
   "pygments_lexer": "ipython3",
   "version": "3.10.10"
  }
 },
 "nbformat": 4,
 "nbformat_minor": 5
}
